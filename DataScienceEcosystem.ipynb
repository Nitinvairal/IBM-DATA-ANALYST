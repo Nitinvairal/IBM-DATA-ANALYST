{
 "cells": [
  {
   "cell_type": "markdown",
   "id": "9c2f0061-b047-4b0c-8edd-f46a3e41e430",
   "metadata": {},
   "source": [
    "### *Exercise 2: Create markdown cell with title of the notebook*\n",
    "\n",
    "Create a markdown cell with the title **Data Science Tools and Ecosystem** using H1 style heading.\n",
    "Take a screenshot of the markdown cell and name it as 2-title.png (Images can be saved with either the .jpg or .png extension.)"
   ]
  },
  {
   "cell_type": "markdown",
   "id": "c0868649-fb4d-488b-a1a7-923ef7e27cde",
   "metadata": {},
   "source": [
    "<code> SOLUTION : </code>\n",
    "# Data Science Tools and Ecosystem"
   ]
  },
  {
   "cell_type": "raw",
   "id": "9911ba46-c1a7-4846-a84e-642ea5f77f38",
   "metadata": {},
   "source": []
  },
  {
   "cell_type": "markdown",
   "id": "de58c83b-f98a-4603-83f7-672df4125c16",
   "metadata": {
    "tags": []
   },
   "source": [
    "### *Exercise 3 - Create a markdown cell for an introduction*\n",
    "\n",
    "Write an introductory sentence about the notebook such as the follows:\n",
    "\n",
    "**In this notebook,Data Science Tools and Ecosystem are summarized**.\n",
    "Take a screenshot of the markdown cell and name it as 3-intro.png (Images can be saved with either the .jpg or .png extension.)"
   ]
  },
  {
   "cell_type": "markdown",
   "id": "aed05209-4a4a-4f47-9bda-f4b71e9881be",
   "metadata": {},
   "source": [
    "<code> SOLUTION : </code>\n",
    "In this notebook, Data Science Tools and Ecosystem are summarized."
   ]
  },
  {
   "cell_type": "raw",
   "id": "0b9d41a5-2ffd-4ec2-8e40-00e3b5378f66",
   "metadata": {},
   "source": []
  },
  {
   "cell_type": "markdown",
   "id": "19390577-4000-477c-a07e-c8f806522030",
   "metadata": {},
   "source": [
    "### *Exercise 4 - Create a markdown cell to list data science languages*\n",
    "\n",
    "Start the cell with an overview line such as:\n",
    "\n",
    "**Some of the popular languages that Data Scientists use are:**\n",
    "Then create an ordered list (i.e. numbered) listing 3 (or more) commonly used languages for data science."
   ]
  },
  {
   "cell_type": "markdown",
   "id": "52bb673b-6244-464c-b07d-52599c9f43d6",
   "metadata": {},
   "source": [
    "<code> SOLUTION : </code>Some of the popular languages that Data Scientists use are:\n",
    "\n",
    "    1) Python\n",
    "    2) R\n",
    "    3) SQL"
   ]
  },
  {
   "cell_type": "raw",
   "id": "5e81c213-508c-4754-b689-7aa5a3aa09d1",
   "metadata": {},
   "source": []
  },
  {
   "cell_type": "markdown",
   "id": "e8b3449f-661d-4d36-98b9-785910e6189e",
   "metadata": {},
   "source": [
    "### *Exercise 5 - Create a markdown cell to list data science libraries*\n",
    "\n",
    "Add an overview line to the cell like:\n",
    "\n",
    "**Some of the commonly used libraries used by Data Scientists include:**\n",
    "Below this line add an ordered list listing 3 (or more) commonly used libraries in data science.\n",
    "Take a screenshot of the markdown cell and name it as 5-dslibraries.png (Images can be saved with either the .jpg or .png extension.)"
   ]
  },
  {
   "cell_type": "markdown",
   "id": "f26d5a5c-b8fb-4e6c-8d91-92e59e07d05d",
   "metadata": {},
   "source": [
    "<code> SOLUTION : </code>Some of the commonly used libraries used by Data Scientists include:\n",
    "    \n",
    "    1) NumPy\n",
    "    2) Pandas\n",
    "    3) Matplotlib\n",
    "    4) Seaborn\n",
    "    5) SciPy\n",
    "    6) SciKit-Learn"
   ]
  },
  {
   "cell_type": "raw",
   "id": "c73e2a11-f4d8-4b8c-b943-9d4e8046d18e",
   "metadata": {},
   "source": []
  },
  {
   "cell_type": "markdown",
   "id": "a07bae7a-8fef-4456-ac79-b94205d85ba8",
   "metadata": {},
   "source": [
    "### *Exercise 6 - Create a markdown cell with a table of Data Science tools**\n",
    "\n",
    "Create a single column table in this cell with the first row containing the header **Data Science Tools**. The subsequent three rows in the table should indicate three development environment open source tools used in data science.\n",
    "\n",
    "Take a screenshot of the markdown cell and name it as 6-dstools.png (Images can be saved with either the .jpg or .png extension.)\n",
    "Hint: Refer to Lab: Using Markdowns in Jupyter Notebooks to create a table.\n"
   ]
  },
  {
   "cell_type": "markdown",
   "id": "7242aca1-8d8a-4745-bcce-99e55a670549",
   "metadata": {},
   "source": [
    "<code> SOLUTION : </code>\n",
    "\n",
    "| Data Science Tools |\n",
    "|------------------ --|\n",
    "| Jupyter Notebook    |\n",
    "| RStudio             |\n",
    "| Spyder              | \n"
   ]
  },
  {
   "cell_type": "raw",
   "id": "8490cc26-73ff-414d-941a-aa03612d1629",
   "metadata": {},
   "source": []
  },
  {
   "cell_type": "markdown",
   "id": "36d5ec02-10b0-44cc-8a65-61d4726c7f63",
   "metadata": {},
   "source": [
    "### *Exercise 7 - Create a markdown cell introducing arithmetic expression examples*\n",
    "\n",
    "Add a line in this cell with H3 style heading with text like:\n",
    "\n",
    "**Below are a few examples of evaluating arithmetic expressions in Python**.\n",
    "Take a screenshot of the markdown cell and name it as 7-introarithmetic.png (Images can be saved with either the .jpg or .png extension.)"
   ]
  },
  {
   "cell_type": "markdown",
   "id": "a4a3c773-9820-4def-a904-2cd37c3f0ca7",
   "metadata": {},
   "source": [
    "<code> SOLUTION : </code>\n",
    "### Below are a few examples of evaluating arithmetic expressions in Python\n",
    "\n"
   ]
  },
  {
   "cell_type": "raw",
   "id": "45e9bcf4-9101-4716-8b48-2e8e6396c8b4",
   "metadata": {},
   "source": []
  },
  {
   "cell_type": "markdown",
   "id": "b75b2d3f-d703-41b2-b81f-b44dd93c77a0",
   "metadata": {},
   "source": [
    "### *Exercise 8 - Create a code cell to multiply and add numbers*\n",
    "\n",
    "In this code cell evaluate the expression (3*4)+5.\n",
    "Insert a comment line before the expression to explain the operation e.g.  **This a simple arithmetic expression to mutiply then add integers**.\n",
    "Then execute the cell to ensure the expression returns the expected output of 17.\n",
    "Take a screenshot of the code cell with output and name it as 8-multiplyandaddintegers.png (Images can be saved with either the .jpg or .png extension.)"
   ]
  },
  {
   "cell_type": "markdown",
   "id": "07ea446b-c594-47a8-943b-2c6012cdf1ef",
   "metadata": {},
   "source": [
    "<code> SOLUTION : </code>\n",
    "\n",
    "Following example is simple arithmetic expression to mutiply then add integers.\n"
   ]
  },
  {
   "cell_type": "markdown",
   "id": "67f14fd2-1606-4bef-ad5f-8f955ed12b56",
   "metadata": {},
   "source": [
    "The expression is evaluated by first performing the multiplication of 3 and 4, which results in 12. The expression then becomes: 12 + 5  Next, the addition operation is performed between 12 and 5, which results in the final answer of 17. Therefore, the value of the expression (3*4)+5 is equal to 17."
   ]
  },
  {
   "cell_type": "code",
   "execution_count": 5,
   "id": "54a2c892-a2a6-4284-b021-3924c12b2798",
   "metadata": {},
   "outputs": [
    {
     "data": {
      "text/plain": [
       "17"
      ]
     },
     "execution_count": 5,
     "metadata": {},
     "output_type": "execute_result"
    }
   ],
   "source": [
    "(3*4)+5"
   ]
  },
  {
   "cell_type": "raw",
   "id": "96f7dd54-48ad-456e-9b1e-f88182f8ed3e",
   "metadata": {},
   "source": []
  },
  {
   "cell_type": "markdown",
   "id": "c8a98815-d884-421c-a214-2ab64282bef1",
   "metadata": {},
   "source": [
    "### *Exercise 9 - Create a code cell to convert minutes to hours*\n",
    "\n",
    "In this code cell write an expression that converts 200 minutes into hours.\n",
    "Insert a comment line before the expression to explain the operation e.g.  **This will convert 200 minutes to hours by diving by 60.**\n",
    "Run the cell to evaluate the expression.\n",
    "Take a screenshot of the code cell with output and name it as 9-hourstominutes.png (Images can be saved with either the .jpg or .png extension.)"
   ]
  },
  {
   "cell_type": "markdown",
   "id": "7d6a6ce4-c09a-4ca5-bb04-ebabaf4f9195",
   "metadata": {},
   "source": [
    "<code> SOLUTION : </code>\n"
   ]
  },
  {
   "cell_type": "code",
   "execution_count": 6,
   "id": "b689222c-2b7d-4bde-9536-e17a0e70dbf6",
   "metadata": {},
   "outputs": [
    {
     "name": "stdout",
     "output_type": "stream",
     "text": [
      "3.3333333333333335\n"
     ]
    }
   ],
   "source": [
    "# This will convert 200 minutes to hours by dividing by 60\n",
    "hours = 200 / 60\n",
    "print(hours)\n"
   ]
  },
  {
   "cell_type": "markdown",
   "id": "be1654b5-f3a7-432c-b41e-b040cfc61203",
   "metadata": {},
   "source": [
    "### *Exercise 10 - Insert a markdown cell to list Objectives*\n",
    "\n",
    "Below the introduction cell created in Exercise 3, insert a new markdown cell to list the objectives that this notebook covered (i.e. some of the key takeaways from the course). In this new cell start with an introductory line titled: Objectives: in bold font. Then using an unordered list (bullets) indicate 3 to 5 items covered in this notebook, such as **List popular languages for Data Science**.\n",
    "Take a screenshot of the markdown cell and name it as 10-objectives.png (Images can be saved with either the .jpg or .png extension.)"
   ]
  },
  {
   "cell_type": "markdown",
   "id": "d76b4f5e-ac0d-4fb5-bcb5-ad9144cd8d61",
   "metadata": {},
   "source": [
    "<code> SOLUTION : </code>\n",
    "\n",
    "**OBJECTIVES :** To understand Data Science Tools and Ecosystem\n",
    "\n",
    "(Items that covered in this notebook)\n",
    "- Some of the popular languages that Data Scientists use\n",
    "- Some of the commonly used libraries used by Data Scientists\n",
    "- Some of the commonly used libraries used by Data Scientists\n",
    "- Evaluating arithmetic expressions in Python\n",
    "- How to converts Minutes to hours\n"
   ]
  },
  {
   "cell_type": "raw",
   "id": "a496e5a8-a4d3-4ca7-8cd3-a25e4cd7a89b",
   "metadata": {},
   "source": []
  },
  {
   "cell_type": "markdown",
   "id": "463c67e6-99ce-4d7f-bf5c-fd786f4e6cf2",
   "metadata": {},
   "source": [
    "### *Exercise 11 - Create a markdown cell to indicate the Author's name*\n",
    "\n",
    "In this markdown cell markdown cell include the following text **Author** below the word Author.\n",
    "Take a screenshot of the markdown cell and name it as 11-authordetails.png (Images can be saved with either the .jpg or .png extension.)"
   ]
  },
  {
   "cell_type": "markdown",
   "id": "77fa2735-ef48-4a32-97f8-16b4963b5b69",
   "metadata": {},
   "source": [
    "## Author\n",
    "Nitin Vairal"
   ]
  },
  {
   "cell_type": "raw",
   "id": "f8a68bfc-5b4f-4051-9e94-b95e39c17c0f",
   "metadata": {},
   "source": []
  }
 ],
 "metadata": {
  "kernelspec": {
   "display_name": "Python 3 (ipykernel)",
   "language": "python",
   "name": "python3"
  },
  "language_info": {
   "codemirror_mode": {
    "name": "ipython",
    "version": 3
   },
   "file_extension": ".py",
   "mimetype": "text/x-python",
   "name": "python",
   "nbconvert_exporter": "python",
   "pygments_lexer": "ipython3",
   "version": "3.9.12"
  }
 },
 "nbformat": 4,
 "nbformat_minor": 5
}
